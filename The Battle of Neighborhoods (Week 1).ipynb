{
    "cells": [
        {
            "cell_type": "markdown",
            "metadata": {
                "collapsed": true
            },
            "source": "# Coursera Capstone Project"
        },
        {
            "cell_type": "markdown",
            "metadata": {},
            "source": "## The Battle of Neighborhoods - Week 1"
        },
        {
            "cell_type": "markdown",
            "metadata": {},
            "source": "#### *RIZA YILDIRIM*"
        },
        {
            "cell_type": "markdown",
            "metadata": {},
            "source": "<br>"
        },
        {
            "cell_type": "markdown",
            "metadata": {},
            "source": "## INTRODUCTION"
        },
        {
            "cell_type": "markdown",
            "metadata": {},
            "source": "#### CASE:"
        },
        {
            "cell_type": "markdown",
            "metadata": {},
            "source": "#### I am living in Istanbul / Turkey. My house is within walking distance to metro and bus stations and I can find many different things in the area, such as various cousine restaurants, cafes, food shops and entertainment. I have been offered a great opportunity to work for a leader firm in Brooklyn, NY. I am very excited and I want to use this opportunity. The key question is : How can I find a convenient and enjoyable place similar to mine now in Istanbul? In order to make a comparison and evaluation of the rental options in Brooklyn NY, I must set some basis, therefore the apartment in Manhattan must meet the following demands:"
        },
        {
            "cell_type": "markdown",
            "metadata": {},
            "source": "- apartment must be 2 or 3 rooms\n- desired location is near a metro station in the Brooklyn area and within 1.5 km (1 mile) radius\n- price of rent not exceed $5,000 per month\n- top places in the selected neighborhood shall be similar to current residence\n- desirable to have venues such as coffee shops, Turkish restaurants, wine stores, gym and food shops"
        },
        {
            "cell_type": "markdown",
            "metadata": {},
            "source": "## DATA SECTION"
        },
        {
            "cell_type": "markdown",
            "metadata": {},
            "source": "### Description: \nThe following data is required to answer the issues of the problem:\n\n- List of Boroughs and neighborhoods of Brooklyn with their geodata\n- List of Subway metro stations in Brooklyn with their address location\n- List of apartments for rent in Brooklyn area with their addresses and price\n- Preferably, a list of apartment for rent with additional information, such as price, address, area, # of beds, etc\n- Venues for each Brooklyn neighborhood (than can be clustered)\n- Venues for subway metro stations, as needed"
        },
        {
            "cell_type": "markdown",
            "metadata": {},
            "source": "### How the data will be used to solve the problem\nThe data will be used as follows:\n\n- Use Foursquare and geopy data to map top 10 venues for all Manhattan neighborhoods and clustered in groups ( as per Course LAB)\n- Use foursquare and geopy data to map the location of subway metro stations , separately and on top of the above clustered map in order to be able to identify the venues and ammenities near each metro station, or explore each subway location separately\n- Use Foursquare and geopy data to map the location of rental places, in some form, linked to the subway locations.\n- Create a map that depicts, for instance, the average rental price per square ft, around a radious of 1.0 mile (1.6 km) around each subway station - or a similar metrics. I will be able to quickly point to the popups to know the relative price per subway area.\n- Addresses from rental locations will be converted to geodata( lat, long) using Geopy-distance and Nominatim.\n- Data will be searched in open data sources if available, from real estate sites if open to reading, libraries or other government agencies such as Metro New York MTA, etc.\n\nThe procesing of these DATA will allow to answer the key questions to make a decision:\n\n- what is the cost of rent (per square ft) around a mile radius from each subway metro station?\n- what is the area of Manhattan with best rental pricing that meets criteria established?\n- What is the distance from work place ( Park Ave and 53 rd St) and the tentative future home?\n- What are the venues of the two best places to live? How the prices compare?\n- How venues distribute among Manhattan neighborhoods and around metro stations?\n- Are there tradeoffs between size and price and location?\n- Any other interesting statistical data findings of the real estate and overall data."
        },
        {
            "cell_type": "code",
            "execution_count": 1,
            "metadata": {},
            "outputs": [
                {
                    "name": "stdout",
                    "output_type": "stream",
                    "text": "Solving environment: done\n\n## Package Plan ##\n\n  environment location: /opt/conda/envs/Python36\n\n  added / updated specs: \n    - geopy\n\n\nThe following packages will be downloaded:\n\n    package                    |            build\n    ---------------------------|-----------------\n    geopy-1.20.0               |             py_0          57 KB  conda-forge\n    ca-certificates-2019.11.28 |       hecc5488_0         145 KB  conda-forge\n    openssl-1.1.1d             |       h516909a_0         2.1 MB  conda-forge\n    geographiclib-1.50         |             py_0          34 KB  conda-forge\n    certifi-2019.11.28         |           py36_0         149 KB  conda-forge\n    ------------------------------------------------------------\n                                           Total:         2.5 MB\n\nThe following NEW packages will be INSTALLED:\n\n    geographiclib:   1.50-py_0         conda-forge\n    geopy:           1.20.0-py_0       conda-forge\n\nThe following packages will be UPDATED:\n\n    ca-certificates: 2019.11.27-0                  --> 2019.11.28-hecc5488_0 conda-forge\n    certifi:         2019.11.28-py36_0             --> 2019.11.28-py36_0     conda-forge\n\nThe following packages will be DOWNGRADED:\n\n    openssl:         1.1.1d-h7b6447c_3             --> 1.1.1d-h516909a_0     conda-forge\n\n\nDownloading and Extracting Packages\ngeopy-1.20.0         | 57 KB     | ##################################### | 100% \nca-certificates-2019 | 145 KB    | ##################################### | 100% \nopenssl-1.1.1d       | 2.1 MB    | ##################################### | 100% \ngeographiclib-1.50   | 34 KB     | ##################################### | 100% \ncertifi-2019.11.28   | 149 KB    | ##################################### | 100% \nPreparing transaction: done\nVerifying transaction: done\nExecuting transaction: done\nSolving environment: done\n\n## Package Plan ##\n\n  environment location: /opt/conda/envs/Python36\n\n  added / updated specs: \n    - folium=0.5.0\n\n\nThe following packages will be downloaded:\n\n    package                    |            build\n    ---------------------------|-----------------\n    folium-0.5.0               |             py_0          45 KB  conda-forge\n    altair-4.0.0               |             py_0         606 KB  conda-forge\n    vincent-0.4.4              |             py_1          28 KB  conda-forge\n    branca-0.3.1               |             py_0          25 KB  conda-forge\n    ------------------------------------------------------------\n                                           Total:         704 KB\n\nThe following NEW packages will be INSTALLED:\n\n    altair:  4.0.0-py_0 conda-forge\n    branca:  0.3.1-py_0 conda-forge\n    folium:  0.5.0-py_0 conda-forge\n    vincent: 0.4.4-py_1 conda-forge\n\n\nDownloading and Extracting Packages\nfolium-0.5.0         | 45 KB     | ##################################### | 100% \naltair-4.0.0         | 606 KB    | ##################################### | 100% \nvincent-0.4.4        | 28 KB     | ##################################### | 100% \nbranca-0.3.1         | 25 KB     | ##################################### | 100% \nPreparing transaction: done\nVerifying transaction: done\nExecuting transaction: done\nSolving environment: done\n\n## Package Plan ##\n\n  environment location: /opt/conda/envs/Python36\n\n  added / updated specs: \n    - beautifulsoup4\n\n\nThe following packages will be downloaded:\n\n    package                    |            build\n    ---------------------------|-----------------\n    certifi-2019.11.28         |           py36_0         156 KB  anaconda\n    openssl-1.1.1              |       h7b6447c_0         5.0 MB  anaconda\n    ca-certificates-2019.11.27 |                0         132 KB  anaconda\n    beautifulsoup4-4.8.1       |           py36_0         153 KB  anaconda\n    ------------------------------------------------------------\n                                           Total:         5.5 MB\n\nThe following packages will be UPDATED:\n\n    beautifulsoup4:  4.7.1-py36_1                      --> 4.8.1-py36_0      anaconda\n    certifi:         2019.11.28-py36_0     conda-forge --> 2019.11.28-py36_0 anaconda\n    openssl:         1.1.1d-h516909a_0     conda-forge --> 1.1.1-h7b6447c_0  anaconda\n\nThe following packages will be DOWNGRADED:\n\n    ca-certificates: 2019.11.28-hecc5488_0 conda-forge --> 2019.11.27-0      anaconda\n\n\nDownloading and Extracting Packages\ncertifi-2019.11.28   | 156 KB    | ##################################### | 100% \nopenssl-1.1.1        | 5.0 MB    | ##################################### | 100% \nca-certificates-2019 | 132 KB    | ##################################### | 100% \nbeautifulsoup4-4.8.1 | 153 KB    | ##################################### | 100% \nPreparing transaction: done\nVerifying transaction: done\nExecuting transaction: done\nSolving environment: done\n\n## Package Plan ##\n\n  environment location: /opt/conda/envs/Python36\n\n  added / updated specs: \n    - lxml\n\n\nThe following packages will be downloaded:\n\n    package                    |            build\n    ---------------------------|-----------------\n    lxml-4.4.2                 |   py36hefd8a0e_0         1.6 MB  anaconda\n\nThe following packages will be UPDATED:\n\n    lxml: 4.3.1-py36hefd8a0e_0 --> 4.4.2-py36hefd8a0e_0 anaconda\n\n\nDownloading and Extracting Packages\nlxml-4.4.2           | 1.6 MB    | ##################################### | 100% \nPreparing transaction: done\nVerifying transaction: done\nExecuting transaction: done\nLibraries imported.\nFolium installed\n"
                }
            ],
            "source": "!conda install -c conda-forge geopy --y\nimport numpy as np # library to handle data in a vectorized manner\nimport time\nimport pandas as pd # library for data analsysis\npd.set_option('display.max_columns', None)\npd.set_option('display.max_rows', None)\nimport random # library for random number generation\nimport json # library to handle JSON files\nimport requests # library to handle requests\nfrom pandas.io.json import json_normalize # tranform JSON file into a pandas dataframe\n# libraries for displaying images\nfrom IPython.display import Image \nfrom IPython.core.display import HTML \nfrom geopy.geocoders import Nominatim # convert an address into latitude and longitude values\n!conda install -c conda-forge folium=0.5.0 --yes # uncomment this line if you haven't completed the Foursquare API lab\n!conda install -c anaconda beautifulsoup4 --y\n!conda install -c anaconda lxml --y\n\n\nimport folium # map rendering library\n\nprint('Libraries imported.')\nprint('Folium installed')\n"
        },
        {
            "cell_type": "markdown",
            "metadata": {},
            "source": "### Reference of venues around current residence in Istanbul for comparison to Brooklyn"
        },
        {
            "cell_type": "code",
            "execution_count": null,
            "metadata": {},
            "outputs": [],
            "source": "# Istanbul adress\naddress = 'gumuscu sk, bostanci, 34744'\ngeolocator = Nominatim(user_agent=\"foursquare_agent\")\nlocation = geolocator.geocode(address)\nlatitude = location.latitude\nlongitude = location.longitude\nprint('The geograpical coordinate of Istanbul home are {}, {}.'.format(latitude, longitude))\n"
        },
        {
            "cell_type": "code",
            "execution_count": null,
            "metadata": {},
            "outputs": [],
            "source": "LIMIT = 100 # limit of number of venues returned by Foursquare API\nradius = 500 # define radius\nCLIENT_ID = 'XM5S5YSHAFKHXPWUZEVU5UFYYM2UVPYEOXBOZ1HVLDVUSO1D' # my Foursquare ID\nCLIENT_SECRET = 'BM3DYWQNSIPRKXNJGKPPZK2WSW2BTAFGSJSPSIL4J2XQ4HLZ' # my Foursquare Secret\nVERSION = '20190604'\n\n# create URL\nurl = 'https://api.foursquare.com/v2/venues/explore?&client_id={}&client_secret={}&v={}&ll={},{}&radius={}&limit={}'.format(\n    CLIENT_ID, \n    CLIENT_SECRET, \n    VERSION, \n    latitude, \n    longitude, \n    radius, \n    LIMIT)\nurl # display URL"
        },
        {
            "cell_type": "code",
            "execution_count": null,
            "metadata": {},
            "outputs": [],
            "source": "results = requests.get(url).json()\n#results"
        },
        {
            "cell_type": "code",
            "execution_count": null,
            "metadata": {},
            "outputs": [],
            "source": "# function that extracts the category of the venue\ndef get_category_type(row):\n    try:\n        categories_list = row['categories']\n    except:\n        categories_list = row['venue.categories']\n        \n    if len(categories_list) == 0:\n        return None\n    else:\n        return categories_list[0]['name']"
        },
        {
            "cell_type": "code",
            "execution_count": null,
            "metadata": {},
            "outputs": [],
            "source": "venues = results['response']['groups'][0]['items']\n    \nSGnearby_venues = json_normalize(venues) # flatten JSON\n\n# filter columns\nfiltered_columns = ['venue.name', 'venue.categories', 'venue.location.lat', 'venue.location.lng']\nSGnearby_venues =SGnearby_venues.loc[:, filtered_columns]\n\n# filter the category for each row\nSGnearby_venues['venue.categories'] = SGnearby_venues.apply(get_category_type, axis=1)\n\n# clean columns\nSGnearby_venues.columns = [col.split(\".\")[-1] for col in SGnearby_venues.columns]\n\nSGnearby_venues.head(10)"
        },
        {
            "cell_type": "code",
            "execution_count": null,
            "metadata": {},
            "outputs": [],
            "source": "# create map of my house in Istanbul using latitude and longitude values\nmap_sg = folium.Map(location=[latitude, longitude], zoom_start=20)\n\n# add markers to map\nfor lat, lng, label in zip(SGnearby_venues['lat'], SGnearby_venues['lng'], SGnearby_venues['name']):\n    label = folium.Popup(label, parse_html=True)\n    folium.RegularPolygonMarker(\n        [lat, lng],\n        number_of_sides=4,\n        radius=10,\n        popup=label,\n        color='blue',\n        fill_color='#0f0f0f',\n        fill_opacity=0.7,\n    ).add_to(map_sg)  \n    \nmap_sg"
        }
    ],
    "metadata": {
        "kernelspec": {
            "display_name": "Python 3.6",
            "language": "python",
            "name": "python3"
        },
        "language_info": {
            "codemirror_mode": {
                "name": "ipython",
                "version": 3
            },
            "file_extension": ".py",
            "mimetype": "text/x-python",
            "name": "python",
            "nbconvert_exporter": "python",
            "pygments_lexer": "ipython3",
            "version": "3.6.8"
        }
    },
    "nbformat": 4,
    "nbformat_minor": 1
}